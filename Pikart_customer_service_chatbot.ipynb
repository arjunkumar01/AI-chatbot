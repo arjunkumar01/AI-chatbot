{
 "cells": [
  {
   "cell_type": "code",
   "execution_count": 1,
   "metadata": {
    "id": "z-Frm2E4JYG6"
   },
   "outputs": [],
   "source": [
    "#import the necessary libraires\n",
    "import random\n",
    "import json\n",
    "import pickle\n",
    "import numpy as np\n",
    "import tensorflow as tf\n",
    "import nltk"
   ]
  },
  {
   "cell_type": "code",
   "execution_count": 2,
   "metadata": {
    "colab": {
     "base_uri": "https://localhost:8080/"
    },
    "executionInfo": {
     "elapsed": 4,
     "status": "ok",
     "timestamp": 1728727739513,
     "user": {
      "displayName": "Atharva Aher",
      "userId": "04663733968942164580"
     },
     "user_tz": -330
    },
    "id": "ZKhuAhdxMhr4",
    "outputId": "737df0d8-f1a8-4473-a117-ad5286e95003"
   },
   "outputs": [
    {
     "name": "stderr",
     "output_type": "stream",
     "text": [
      "[nltk_data] Downloading package punkt to\n",
      "[nltk_data]     C:\\Users\\MADHURI\\AppData\\Roaming\\nltk_data...\n",
      "[nltk_data]   Package punkt is already up-to-date!\n",
      "[nltk_data] Downloading package wordnet to\n",
      "[nltk_data]     C:\\Users\\MADHURI\\AppData\\Roaming\\nltk_data...\n",
      "[nltk_data]   Package wordnet is already up-to-date!\n"
     ]
    }
   ],
   "source": [
    "#downloading the nltk packages\n",
    "nltk.download('punkt')\n",
    "nltk.download('wordnet')\n",
    "from nltk.stem import WordNetLemmatizer"
   ]
  },
  {
   "cell_type": "code",
   "execution_count": 3,
   "metadata": {
    "id": "-qAO5NJkMzu9"
   },
   "outputs": [],
   "source": [
    "# initialize the lemmatizer\n",
    "lemmatizer = WordNetLemmatizer()"
   ]
  },
  {
   "cell_type": "code",
   "execution_count": 4,
   "metadata": {
    "id": "YuA4ruB-NNyB"
   },
   "outputs": [],
   "source": [
    "# load the intents file\n",
    "intents = json.loads(open('intents.json').read())"
   ]
  },
  {
   "cell_type": "code",
   "execution_count": 5,
   "metadata": {
    "id": "Nxj6a_PmNXUy"
   },
   "outputs": [],
   "source": [
    "# create empty lists for words classes and documents\n",
    "words = []\n",
    "classes = []\n",
    "documents = []"
   ]
  },
  {
   "cell_type": "code",
   "execution_count": 6,
   "metadata": {
    "id": "q1SkudE4Ngss"
   },
   "outputs": [],
   "source": [
    "# create a list of the symbols to ignore\n",
    "ignoreLetters = ['?', '!', '.', ',']"
   ]
  },
  {
   "cell_type": "code",
   "execution_count": 7,
   "metadata": {
    "id": "GgOW8QORNvKw"
   },
   "outputs": [],
   "source": [
    "# looping throught the intents and extracting the features\n",
    "for intent in intents['intents']:\n",
    "    for pattern in intent['patterns']:\n",
    "        wordList = nltk.word_tokenize(pattern)\n",
    "        words.extend(wordList)\n",
    "\n",
    "        documents.append((wordList, intent['tag']))\n",
    "\n",
    "        # add tags into the classes file if they are not present\n",
    "        if intent['tag'] not in classes:\n",
    "            classes.append(intent['tag'])"
   ]
  },
  {
   "cell_type": "code",
   "execution_count": 8,
   "metadata": {
    "id": "yagQledDOxac"
   },
   "outputs": [],
   "source": [
    "# lemmatize the words and remove duplicates and ingored letters\n",
    "words = [lemmatizer.lemmatize(word) for word in words if word not in ignoreLetters]"
   ]
  },
  {
   "cell_type": "code",
   "execution_count": 9,
   "metadata": {
    "id": "4RT7MsCoPNJZ"
   },
   "outputs": [],
   "source": [
    "words = sorted(set(words))\n",
    "classes = sorted(set(classes))"
   ]
  },
  {
   "cell_type": "code",
   "execution_count": 10,
   "metadata": {
    "id": "6GgKhE6pPcft"
   },
   "outputs": [],
   "source": [
    "# dump these classes and words into pickle files\n",
    "pickle.dump(words, open('words.pkl', 'wb'))\n",
    "pickle.dump(classes, open('classes.pkl', 'wb'))"
   ]
  },
  {
   "cell_type": "code",
   "execution_count": 11,
   "metadata": {
    "id": "jBhRvAA1PqYl"
   },
   "outputs": [],
   "source": [
    "# create a training set\n",
    "\n",
    "training = []\n",
    "empty_output = [0] * len(classes)"
   ]
  },
  {
   "cell_type": "code",
   "execution_count": 12,
   "metadata": {
    "id": "rmaWnrfBQCqi"
   },
   "outputs": [],
   "source": [
    "# create a bag of words representation of the documents\n",
    "\n",
    "for document in documents:\n",
    "    bag = []\n",
    "    word_patterns = document[0]\n",
    "    word_patterns = [lemmatizer.lemmatize(word.lower()) for word in word_patterns]\n",
    "\n",
    "    for word in words:\n",
    "        bag.append(1) if word in word_patterns else bag.append(0)"
   ]
  },
  {
   "cell_type": "code",
   "execution_count": 13,
   "metadata": {
    "id": "PStFa9mkQsfF"
   },
   "outputs": [],
   "source": [
    "# create the output row\n",
    "output_row = list(empty_output)\n",
    "output_row[classes.index(document[1])] = 1\n",
    "training.append(bag + output_row)"
   ]
  },
  {
   "cell_type": "code",
   "execution_count": 14,
   "metadata": {
    "id": "K1qlCAr9RZNy"
   },
   "outputs": [],
   "source": [
    "# shuffle the data\n",
    "random.shuffle(training)\n",
    "training = np.array(training)"
   ]
  },
  {
   "cell_type": "code",
   "execution_count": 15,
   "metadata": {
    "id": "3esrinnRRm_M"
   },
   "outputs": [],
   "source": [
    "# create X and Y for training\n",
    "X_train = training[:, :len(words)]\n",
    "y_train = training [:, len(words):]"
   ]
  },
  {
   "cell_type": "code",
   "execution_count": 16,
   "metadata": {
    "colab": {
     "base_uri": "https://localhost:8080/"
    },
    "executionInfo": {
     "elapsed": 519,
     "status": "ok",
     "timestamp": 1728729385112,
     "user": {
      "displayName": "Atharva Aher",
      "userId": "04663733968942164580"
     },
     "user_tz": -330
    },
    "id": "jhhq-l9YR38x",
    "outputId": "879844c3-8c55-4f86-cd0d-c0e72463332d"
   },
   "outputs": [],
   "source": [
    "# create a sequntial model using tensorflow\n",
    "model = tf.keras.models.Sequential()\n",
    "model.add(tf.keras.layers.Dense(128, input_shape=(len(X_train[0]),), activation='relu'))\n",
    "model.add(tf.keras.layers.Dropout(0.5))\n",
    "model.add(tf.keras.layers.Dense(64, activation='relu'))\n",
    "model.add(tf.keras.layers.Dropout(0.5))\n",
    "model.add(tf.keras.layers.Dense(len(y_train[0]), activation='softmax'))"
   ]
  },
  {
   "cell_type": "code",
   "execution_count": 17,
   "metadata": {
    "id": "uRwdwoA0SzCg"
   },
   "outputs": [],
   "source": [
    "# compile the above model\n",
    "\n",
    "sgd = tf.keras.optimizers.SGD(learning_rate=0.01, momentum=0.9, nesterov=True)\n",
    "model.compile(loss='categorical_crossentropy', optimizer=sgd, metrics=['accuracy'])"
   ]
  },
  {
   "cell_type": "code",
   "execution_count": 18,
   "metadata": {
    "colab": {
     "base_uri": "https://localhost:8080/"
    },
    "executionInfo": {
     "elapsed": 12741,
     "status": "ok",
     "timestamp": 1728729646837,
     "user": {
      "displayName": "Atharva Aher",
      "userId": "04663733968942164580"
     },
     "user_tz": -330
    },
    "id": "xWVBozqZT6xp",
    "outputId": "3f848474-32f2-45ac-f013-6dcbcc964835"
   },
   "outputs": [
    {
     "name": "stdout",
     "output_type": "stream",
     "text": [
      "Epoch 1/200\n",
      "1/1 [==============================] - 1s 693ms/step - loss: 4.6186 - accuracy: 0.0000e+00\n",
      "Epoch 2/200\n",
      "1/1 [==============================] - 0s 8ms/step - loss: 4.4974 - accuracy: 0.0000e+00\n",
      "Epoch 3/200\n",
      "1/1 [==============================] - 0s 8ms/step - loss: 4.3777 - accuracy: 0.0000e+00\n",
      "Epoch 4/200\n",
      "1/1 [==============================] - 0s 10ms/step - loss: 4.1951 - accuracy: 0.0000e+00\n",
      "Epoch 5/200\n",
      "1/1 [==============================] - 0s 8ms/step - loss: 4.1004 - accuracy: 0.0000e+00\n",
      "Epoch 6/200\n",
      "1/1 [==============================] - 0s 8ms/step - loss: 3.8592 - accuracy: 1.0000\n",
      "Epoch 7/200\n",
      "1/1 [==============================] - 0s 10ms/step - loss: 4.0230 - accuracy: 0.0000e+00\n",
      "Epoch 8/200\n",
      "1/1 [==============================] - 0s 8ms/step - loss: 3.5603 - accuracy: 1.0000\n",
      "Epoch 9/200\n",
      "1/1 [==============================] - 0s 16ms/step - loss: 3.4535 - accuracy: 1.0000\n",
      "Epoch 10/200\n",
      "1/1 [==============================] - 0s 9ms/step - loss: 3.1070 - accuracy: 1.0000\n",
      "Epoch 11/200\n",
      "1/1 [==============================] - 0s 8ms/step - loss: 2.9165 - accuracy: 1.0000\n",
      "Epoch 12/200\n",
      "1/1 [==============================] - 0s 11ms/step - loss: 2.8723 - accuracy: 1.0000\n",
      "Epoch 13/200\n",
      "1/1 [==============================] - 0s 0s/step - loss: 2.6609 - accuracy: 1.0000\n",
      "Epoch 14/200\n",
      "1/1 [==============================] - 0s 8ms/step - loss: 0.7204 - accuracy: 1.0000\n",
      "Epoch 15/200\n",
      "1/1 [==============================] - 0s 8ms/step - loss: 1.3458 - accuracy: 1.0000\n",
      "Epoch 16/200\n",
      "1/1 [==============================] - 0s 8ms/step - loss: 0.1592 - accuracy: 1.0000\n",
      "Epoch 17/200\n",
      "1/1 [==============================] - 0s 8ms/step - loss: 0.9209 - accuracy: 1.0000\n",
      "Epoch 18/200\n",
      "1/1 [==============================] - 0s 4ms/step - loss: 0.0392 - accuracy: 1.0000\n",
      "Epoch 19/200\n",
      "1/1 [==============================] - 0s 5ms/step - loss: 0.0022 - accuracy: 1.0000\n",
      "Epoch 20/200\n",
      "1/1 [==============================] - 0s 8ms/step - loss: 0.0016 - accuracy: 1.0000\n",
      "Epoch 21/200\n",
      "1/1 [==============================] - 0s 8ms/step - loss: 0.0171 - accuracy: 1.0000\n",
      "Epoch 22/200\n",
      "1/1 [==============================] - 0s 8ms/step - loss: 0.2168 - accuracy: 1.0000\n",
      "Epoch 23/200\n",
      "1/1 [==============================] - 0s 6ms/step - loss: 6.1100e-04 - accuracy: 1.0000\n",
      "Epoch 24/200\n",
      "1/1 [==============================] - 0s 0s/step - loss: 1.6093e-05 - accuracy: 1.0000\n",
      "Epoch 25/200\n",
      "1/1 [==============================] - 0s 0s/step - loss: 5.4226e-04 - accuracy: 1.0000\n",
      "Epoch 26/200\n",
      "1/1 [==============================] - 0s 8ms/step - loss: 6.7949e-06 - accuracy: 1.0000\n",
      "Epoch 27/200\n",
      "1/1 [==============================] - 0s 0s/step - loss: 8.3446e-07 - accuracy: 1.0000\n",
      "Epoch 28/200\n",
      "1/1 [==============================] - 0s 8ms/step - loss: 0.0000e+00 - accuracy: 1.0000\n",
      "Epoch 29/200\n",
      "1/1 [==============================] - 0s 8ms/step - loss: 0.0000e+00 - accuracy: 1.0000\n",
      "Epoch 30/200\n",
      "1/1 [==============================] - 0s 3ms/step - loss: 4.4702e-05 - accuracy: 1.0000\n",
      "Epoch 31/200\n",
      "1/1 [==============================] - 0s 6ms/step - loss: 0.0000e+00 - accuracy: 1.0000\n",
      "Epoch 32/200\n",
      "1/1 [==============================] - 0s 8ms/step - loss: 2.1219e-05 - accuracy: 1.0000\n",
      "Epoch 33/200\n",
      "1/1 [==============================] - 0s 9ms/step - loss: 0.0000e+00 - accuracy: 1.0000\n",
      "Epoch 34/200\n",
      "1/1 [==============================] - 0s 15ms/step - loss: 1.5497e-06 - accuracy: 1.0000\n",
      "Epoch 35/200\n",
      "1/1 [==============================] - 0s 8ms/step - loss: 0.0036 - accuracy: 1.0000\n",
      "Epoch 36/200\n",
      "1/1 [==============================] - 0s 3ms/step - loss: 7.7486e-06 - accuracy: 1.0000\n",
      "Epoch 37/200\n",
      "1/1 [==============================] - 0s 16ms/step - loss: 0.0000e+00 - accuracy: 1.0000\n",
      "Epoch 38/200\n",
      "1/1 [==============================] - 0s 12ms/step - loss: 2.6226e-06 - accuracy: 1.0000\n",
      "Epoch 39/200\n",
      "1/1 [==============================] - 0s 0s/step - loss: 0.0000e+00 - accuracy: 1.0000\n",
      "Epoch 40/200\n",
      "1/1 [==============================] - 0s 8ms/step - loss: 4.8876e-06 - accuracy: 1.0000\n",
      "Epoch 41/200\n",
      "1/1 [==============================] - 0s 10ms/step - loss: 0.0000e+00 - accuracy: 1.0000\n",
      "Epoch 42/200\n",
      "1/1 [==============================] - 0s 7ms/step - loss: 4.7684e-07 - accuracy: 1.0000\n",
      "Epoch 43/200\n",
      "1/1 [==============================] - 0s 2ms/step - loss: 5.3534e-04 - accuracy: 1.0000\n",
      "Epoch 44/200\n",
      "1/1 [==============================] - 0s 8ms/step - loss: 4.7887e-04 - accuracy: 1.0000\n",
      "Epoch 45/200\n",
      "1/1 [==============================] - 0s 0s/step - loss: 0.0000e+00 - accuracy: 1.0000\n",
      "Epoch 46/200\n",
      "1/1 [==============================] - 0s 8ms/step - loss: 0.0000e+00 - accuracy: 1.0000\n",
      "Epoch 47/200\n",
      "1/1 [==============================] - 0s 8ms/step - loss: 1.8547e-04 - accuracy: 1.0000\n",
      "Epoch 48/200\n",
      "1/1 [==============================] - 0s 13ms/step - loss: 6.0797e-06 - accuracy: 1.0000\n",
      "Epoch 49/200\n",
      "1/1 [==============================] - 0s 3ms/step - loss: 0.0000e+00 - accuracy: 1.0000\n",
      "Epoch 50/200\n",
      "1/1 [==============================] - 0s 11ms/step - loss: 0.0000e+00 - accuracy: 1.0000\n",
      "Epoch 51/200\n",
      "1/1 [==============================] - 0s 5ms/step - loss: 0.0051 - accuracy: 1.0000\n",
      "Epoch 52/200\n",
      "1/1 [==============================] - 0s 8ms/step - loss: 0.0000e+00 - accuracy: 1.0000\n",
      "Epoch 53/200\n",
      "1/1 [==============================] - 0s 0s/step - loss: 0.0000e+00 - accuracy: 1.0000\n",
      "Epoch 54/200\n",
      "1/1 [==============================] - 0s 13ms/step - loss: 0.0000e+00 - accuracy: 1.0000\n",
      "Epoch 55/200\n",
      "1/1 [==============================] - 0s 0s/step - loss: 9.5367e-07 - accuracy: 1.0000\n",
      "Epoch 56/200\n",
      "1/1 [==============================] - 0s 16ms/step - loss: 0.0000e+00 - accuracy: 1.0000\n",
      "Epoch 57/200\n",
      "1/1 [==============================] - 0s 0s/step - loss: 0.0000e+00 - accuracy: 1.0000\n",
      "Epoch 58/200\n",
      "1/1 [==============================] - 0s 8ms/step - loss: 2.3842e-07 - accuracy: 1.0000\n",
      "Epoch 59/200\n",
      "1/1 [==============================] - 0s 10ms/step - loss: 1.4186e-05 - accuracy: 1.0000\n",
      "Epoch 60/200\n",
      "1/1 [==============================] - 0s 11ms/step - loss: 9.0476e-05 - accuracy: 1.0000\n",
      "Epoch 61/200\n",
      "1/1 [==============================] - 0s 3ms/step - loss: 0.0000e+00 - accuracy: 1.0000\n",
      "Epoch 62/200\n",
      "1/1 [==============================] - 0s 6ms/step - loss: 0.0000e+00 - accuracy: 1.0000\n",
      "Epoch 63/200\n",
      "1/1 [==============================] - 0s 0s/step - loss: 0.0000e+00 - accuracy: 1.0000\n",
      "Epoch 64/200\n",
      "1/1 [==============================] - 0s 8ms/step - loss: 0.0000e+00 - accuracy: 1.0000\n",
      "Epoch 65/200\n",
      "1/1 [==============================] - 0s 2ms/step - loss: 0.0000e+00 - accuracy: 1.0000\n",
      "Epoch 66/200\n",
      "1/1 [==============================] - 0s 0s/step - loss: 0.0000e+00 - accuracy: 1.0000\n",
      "Epoch 67/200\n",
      "1/1 [==============================] - 0s 8ms/step - loss: 0.0000e+00 - accuracy: 1.0000\n",
      "Epoch 68/200\n",
      "1/1 [==============================] - 0s 0s/step - loss: 0.0000e+00 - accuracy: 1.0000\n",
      "Epoch 69/200\n",
      "1/1 [==============================] - 0s 8ms/step - loss: 1.1682e-05 - accuracy: 1.0000\n",
      "Epoch 70/200\n",
      "1/1 [==============================] - 0s 0s/step - loss: 0.0000e+00 - accuracy: 1.0000\n",
      "Epoch 71/200\n",
      "1/1 [==============================] - 0s 0s/step - loss: 0.0000e+00 - accuracy: 1.0000\n",
      "Epoch 72/200\n",
      "1/1 [==============================] - 0s 8ms/step - loss: 0.0000e+00 - accuracy: 1.0000\n",
      "Epoch 73/200\n",
      "1/1 [==============================] - 0s 8ms/step - loss: 0.0000e+00 - accuracy: 1.0000\n",
      "Epoch 74/200\n",
      "1/1 [==============================] - 0s 8ms/step - loss: 4.7684e-07 - accuracy: 1.0000\n",
      "Epoch 75/200\n",
      "1/1 [==============================] - 0s 8ms/step - loss: 0.0000e+00 - accuracy: 1.0000\n",
      "Epoch 76/200\n",
      "1/1 [==============================] - 0s 8ms/step - loss: 0.0000e+00 - accuracy: 1.0000\n",
      "Epoch 77/200\n",
      "1/1 [==============================] - 0s 9ms/step - loss: 0.0000e+00 - accuracy: 1.0000\n",
      "Epoch 78/200\n",
      "1/1 [==============================] - 0s 7ms/step - loss: 1.1921e-07 - accuracy: 1.0000\n",
      "Epoch 79/200\n",
      "1/1 [==============================] - 0s 8ms/step - loss: 0.0000e+00 - accuracy: 1.0000\n",
      "Epoch 80/200\n",
      "1/1 [==============================] - 0s 8ms/step - loss: 0.0000e+00 - accuracy: 1.0000\n",
      "Epoch 81/200\n",
      "1/1 [==============================] - 0s 0s/step - loss: 0.0000e+00 - accuracy: 1.0000\n",
      "Epoch 82/200\n",
      "1/1 [==============================] - 0s 0s/step - loss: 0.0000e+00 - accuracy: 1.0000\n",
      "Epoch 83/200\n",
      "1/1 [==============================] - 0s 0s/step - loss: 0.0000e+00 - accuracy: 1.0000\n",
      "Epoch 84/200\n",
      "1/1 [==============================] - 0s 8ms/step - loss: 0.0000e+00 - accuracy: 1.0000\n",
      "Epoch 85/200\n",
      "1/1 [==============================] - 0s 8ms/step - loss: 0.0000e+00 - accuracy: 1.0000\n",
      "Epoch 86/200\n",
      "1/1 [==============================] - 0s 8ms/step - loss: 0.0000e+00 - accuracy: 1.0000\n",
      "Epoch 87/200\n",
      "1/1 [==============================] - 0s 8ms/step - loss: 9.5367e-07 - accuracy: 1.0000\n",
      "Epoch 88/200\n",
      "1/1 [==============================] - 0s 8ms/step - loss: 2.0266e-06 - accuracy: 1.0000\n",
      "Epoch 89/200\n",
      "1/1 [==============================] - 0s 8ms/step - loss: 0.0000e+00 - accuracy: 1.0000\n",
      "Epoch 90/200\n",
      "1/1 [==============================] - 0s 0s/step - loss: 0.0245 - accuracy: 1.0000\n",
      "Epoch 91/200\n",
      "1/1 [==============================] - 0s 8ms/step - loss: 4.7684e-07 - accuracy: 1.0000\n",
      "Epoch 92/200\n",
      "1/1 [==============================] - 0s 41ms/step - loss: 0.0000e+00 - accuracy: 1.0000\n",
      "Epoch 93/200\n",
      "1/1 [==============================] - 0s 8ms/step - loss: 0.0357 - accuracy: 1.0000\n",
      "Epoch 94/200\n",
      "1/1 [==============================] - 0s 6ms/step - loss: 0.0069 - accuracy: 1.0000\n",
      "Epoch 95/200\n",
      "1/1 [==============================] - 0s 5ms/step - loss: 0.0000e+00 - accuracy: 1.0000\n",
      "Epoch 96/200\n",
      "1/1 [==============================] - 0s 0s/step - loss: 0.0000e+00 - accuracy: 1.0000\n",
      "Epoch 97/200\n",
      "1/1 [==============================] - 0s 8ms/step - loss: 0.0000e+00 - accuracy: 1.0000\n",
      "Epoch 98/200\n",
      "1/1 [==============================] - 0s 0s/step - loss: 0.0000e+00 - accuracy: 1.0000\n",
      "Epoch 99/200\n",
      "1/1 [==============================] - 0s 12ms/step - loss: 3.5763e-07 - accuracy: 1.0000\n",
      "Epoch 100/200\n",
      "1/1 [==============================] - 0s 2ms/step - loss: 0.0000e+00 - accuracy: 1.0000\n",
      "Epoch 101/200\n",
      "1/1 [==============================] - 0s 8ms/step - loss: 0.0000e+00 - accuracy: 1.0000\n",
      "Epoch 102/200\n",
      "1/1 [==============================] - 0s 8ms/step - loss: 0.0000e+00 - accuracy: 1.0000\n",
      "Epoch 103/200\n",
      "1/1 [==============================] - 0s 11ms/step - loss: 9.5367e-07 - accuracy: 1.0000\n",
      "Epoch 104/200\n",
      "1/1 [==============================] - 0s 4ms/step - loss: 3.5763e-07 - accuracy: 1.0000\n",
      "Epoch 105/200\n",
      "1/1 [==============================] - 0s 0s/step - loss: 0.0000e+00 - accuracy: 1.0000\n",
      "Epoch 106/200\n",
      "1/1 [==============================] - 0s 6ms/step - loss: 8.7890e-04 - accuracy: 1.0000\n",
      "Epoch 107/200\n",
      "1/1 [==============================] - 0s 0s/step - loss: 0.0000e+00 - accuracy: 1.0000\n",
      "Epoch 108/200\n",
      "1/1 [==============================] - 0s 0s/step - loss: 2.3842e-07 - accuracy: 1.0000\n",
      "Epoch 109/200\n",
      "1/1 [==============================] - 0s 0s/step - loss: 2.3842e-07 - accuracy: 1.0000\n",
      "Epoch 110/200\n",
      "1/1 [==============================] - 0s 13ms/step - loss: 0.0000e+00 - accuracy: 1.0000\n",
      "Epoch 111/200\n",
      "1/1 [==============================] - 0s 3ms/step - loss: 0.0000e+00 - accuracy: 1.0000\n",
      "Epoch 112/200\n",
      "1/1 [==============================] - 0s 8ms/step - loss: 0.0000e+00 - accuracy: 1.0000\n",
      "Epoch 113/200\n",
      "1/1 [==============================] - 0s 8ms/step - loss: 0.0000e+00 - accuracy: 1.0000\n",
      "Epoch 114/200\n",
      "1/1 [==============================] - 0s 8ms/step - loss: 1.9669e-05 - accuracy: 1.0000\n",
      "Epoch 115/200\n",
      "1/1 [==============================] - 0s 8ms/step - loss: 0.0000e+00 - accuracy: 1.0000\n",
      "Epoch 116/200\n",
      "1/1 [==============================] - 0s 10ms/step - loss: 0.0741 - accuracy: 1.0000\n",
      "Epoch 117/200\n",
      "1/1 [==============================] - 0s 8ms/step - loss: 0.0000e+00 - accuracy: 1.0000\n",
      "Epoch 118/200\n",
      "1/1 [==============================] - 0s 8ms/step - loss: 4.1723e-06 - accuracy: 1.0000\n",
      "Epoch 119/200\n",
      "1/1 [==============================] - 0s 6ms/step - loss: 0.0000e+00 - accuracy: 1.0000\n",
      "Epoch 120/200\n",
      "1/1 [==============================] - 0s 8ms/step - loss: 9.5367e-07 - accuracy: 1.0000\n",
      "Epoch 121/200\n",
      "1/1 [==============================] - 0s 6ms/step - loss: 0.0000e+00 - accuracy: 1.0000\n",
      "Epoch 122/200\n",
      "1/1 [==============================] - 0s 0s/step - loss: 0.0000e+00 - accuracy: 1.0000\n",
      "Epoch 123/200\n",
      "1/1 [==============================] - 0s 0s/step - loss: 0.0000e+00 - accuracy: 1.0000\n",
      "Epoch 124/200\n",
      "1/1 [==============================] - 0s 8ms/step - loss: 0.0000e+00 - accuracy: 1.0000\n",
      "Epoch 125/200\n",
      "1/1 [==============================] - 0s 8ms/step - loss: 0.0000e+00 - accuracy: 1.0000\n",
      "Epoch 126/200\n",
      "1/1 [==============================] - 0s 8ms/step - loss: 0.0000e+00 - accuracy: 1.0000\n",
      "Epoch 127/200\n",
      "1/1 [==============================] - 0s 8ms/step - loss: 4.7684e-07 - accuracy: 1.0000\n",
      "Epoch 128/200\n",
      "1/1 [==============================] - 0s 8ms/step - loss: 0.0000e+00 - accuracy: 1.0000\n",
      "Epoch 129/200\n",
      "1/1 [==============================] - 0s 8ms/step - loss: 0.0000e+00 - accuracy: 1.0000\n",
      "Epoch 130/200\n",
      "1/1 [==============================] - 0s 8ms/step - loss: 0.0000e+00 - accuracy: 1.0000\n",
      "Epoch 131/200\n",
      "1/1 [==============================] - 0s 0s/step - loss: 0.0000e+00 - accuracy: 1.0000\n",
      "Epoch 132/200\n",
      "1/1 [==============================] - 0s 6ms/step - loss: 0.0000e+00 - accuracy: 1.0000\n",
      "Epoch 133/200\n",
      "1/1 [==============================] - 0s 0s/step - loss: 2.2650e-06 - accuracy: 1.0000\n",
      "Epoch 134/200\n",
      "1/1 [==============================] - 0s 0s/step - loss: 0.0000e+00 - accuracy: 1.0000\n",
      "Epoch 135/200\n",
      "1/1 [==============================] - 0s 8ms/step - loss: 0.0000e+00 - accuracy: 1.0000\n",
      "Epoch 136/200\n",
      "1/1 [==============================] - 0s 8ms/step - loss: 7.1526e-07 - accuracy: 1.0000\n",
      "Epoch 137/200\n",
      "1/1 [==============================] - 0s 8ms/step - loss: 0.0000e+00 - accuracy: 1.0000\n",
      "Epoch 138/200\n",
      "1/1 [==============================] - 0s 8ms/step - loss: 7.2717e-06 - accuracy: 1.0000\n",
      "Epoch 139/200\n",
      "1/1 [==============================] - 0s 0s/step - loss: 0.0000e+00 - accuracy: 1.0000\n",
      "Epoch 140/200\n",
      "1/1 [==============================] - 0s 0s/step - loss: 3.9339e-06 - accuracy: 1.0000\n",
      "Epoch 141/200\n",
      "1/1 [==============================] - 0s 0s/step - loss: 5.1497e-05 - accuracy: 1.0000\n",
      "Epoch 142/200\n",
      "1/1 [==============================] - 0s 0s/step - loss: 0.0000e+00 - accuracy: 1.0000\n",
      "Epoch 143/200\n",
      "1/1 [==============================] - 0s 12ms/step - loss: 0.0000e+00 - accuracy: 1.0000\n",
      "Epoch 144/200\n",
      "1/1 [==============================] - 0s 0s/step - loss: 0.0000e+00 - accuracy: 1.0000\n",
      "Epoch 145/200\n",
      "1/1 [==============================] - 0s 6ms/step - loss: 0.0000e+00 - accuracy: 1.0000\n",
      "Epoch 146/200\n",
      "1/1 [==============================] - 0s 5ms/step - loss: 0.0000e+00 - accuracy: 1.0000\n",
      "Epoch 147/200\n",
      "1/1 [==============================] - 0s 8ms/step - loss: 0.0000e+00 - accuracy: 1.0000\n",
      "Epoch 148/200\n",
      "1/1 [==============================] - 0s 0s/step - loss: 0.0000e+00 - accuracy: 1.0000\n",
      "Epoch 149/200\n",
      "1/1 [==============================] - 0s 9ms/step - loss: 0.0000e+00 - accuracy: 1.0000\n",
      "Epoch 150/200\n",
      "1/1 [==============================] - 0s 7ms/step - loss: 0.0000e+00 - accuracy: 1.0000\n",
      "Epoch 151/200\n",
      "1/1 [==============================] - 0s 12ms/step - loss: 3.3379e-06 - accuracy: 1.0000\n",
      "Epoch 152/200\n",
      "1/1 [==============================] - 0s 2ms/step - loss: 0.0000e+00 - accuracy: 1.0000\n",
      "Epoch 153/200\n",
      "1/1 [==============================] - 0s 11ms/step - loss: 0.0000e+00 - accuracy: 1.0000\n",
      "Epoch 154/200\n",
      "1/1 [==============================] - 0s 6ms/step - loss: 0.0000e+00 - accuracy: 1.0000\n",
      "Epoch 155/200\n",
      "1/1 [==============================] - 0s 7ms/step - loss: 3.3379e-06 - accuracy: 1.0000\n",
      "Epoch 156/200\n",
      "1/1 [==============================] - 0s 10ms/step - loss: 4.7684e-07 - accuracy: 1.0000\n",
      "Epoch 157/200\n",
      "1/1 [==============================] - 0s 6ms/step - loss: 0.0012 - accuracy: 1.0000\n",
      "Epoch 158/200\n",
      "1/1 [==============================] - 0s 8ms/step - loss: 0.0000e+00 - accuracy: 1.0000\n",
      "Epoch 159/200\n",
      "1/1 [==============================] - 0s 8ms/step - loss: 0.0000e+00 - accuracy: 1.0000\n",
      "Epoch 160/200\n",
      "1/1 [==============================] - 0s 8ms/step - loss: 0.0000e+00 - accuracy: 1.0000\n",
      "Epoch 161/200\n",
      "1/1 [==============================] - 0s 5ms/step - loss: 2.5210e-04 - accuracy: 1.0000\n",
      "Epoch 162/200\n",
      "1/1 [==============================] - 0s 5ms/step - loss: 0.0000e+00 - accuracy: 1.0000\n",
      "Epoch 163/200\n",
      "1/1 [==============================] - 0s 3ms/step - loss: 0.0000e+00 - accuracy: 1.0000\n",
      "Epoch 164/200\n",
      "1/1 [==============================] - 0s 9ms/step - loss: 1.6689e-05 - accuracy: 1.0000\n",
      "Epoch 165/200\n",
      "1/1 [==============================] - 0s 4ms/step - loss: 0.0000e+00 - accuracy: 1.0000\n",
      "Epoch 166/200\n",
      "1/1 [==============================] - 0s 8ms/step - loss: 0.0000e+00 - accuracy: 1.0000\n",
      "Epoch 167/200\n",
      "1/1 [==============================] - 0s 0s/step - loss: 0.0000e+00 - accuracy: 1.0000\n",
      "Epoch 168/200\n",
      "1/1 [==============================] - 0s 8ms/step - loss: 0.0000e+00 - accuracy: 1.0000\n",
      "Epoch 169/200\n",
      "1/1 [==============================] - 0s 7ms/step - loss: 0.0000e+00 - accuracy: 1.0000\n",
      "Epoch 170/200\n",
      "1/1 [==============================] - 0s 8ms/step - loss: 0.0012 - accuracy: 1.0000\n",
      "Epoch 171/200\n",
      "1/1 [==============================] - 0s 8ms/step - loss: 0.0000e+00 - accuracy: 1.0000\n",
      "Epoch 172/200\n",
      "1/1 [==============================] - 0s 8ms/step - loss: 0.0000e+00 - accuracy: 1.0000\n",
      "Epoch 173/200\n",
      "1/1 [==============================] - 0s 6ms/step - loss: 0.0118 - accuracy: 1.0000\n",
      "Epoch 174/200\n",
      "1/1 [==============================] - 0s 8ms/step - loss: 0.0000e+00 - accuracy: 1.0000\n",
      "Epoch 175/200\n",
      "1/1 [==============================] - 0s 14ms/step - loss: 1.2875e-05 - accuracy: 1.0000\n",
      "Epoch 176/200\n",
      "1/1 [==============================] - 0s 5ms/step - loss: 3.1633e-04 - accuracy: 1.0000\n",
      "Epoch 177/200\n",
      "1/1 [==============================] - 0s 0s/step - loss: 0.0000e+00 - accuracy: 1.0000\n",
      "Epoch 178/200\n",
      "1/1 [==============================] - 0s 5ms/step - loss: 0.0000e+00 - accuracy: 1.0000\n",
      "Epoch 179/200\n",
      "1/1 [==============================] - 0s 0s/step - loss: 3.5763e-07 - accuracy: 1.0000\n",
      "Epoch 180/200\n",
      "1/1 [==============================] - 0s 3ms/step - loss: 0.0000e+00 - accuracy: 1.0000\n",
      "Epoch 181/200\n",
      "1/1 [==============================] - 0s 5ms/step - loss: 0.0000e+00 - accuracy: 1.0000\n",
      "Epoch 182/200\n",
      "1/1 [==============================] - 0s 8ms/step - loss: 0.0000e+00 - accuracy: 1.0000\n",
      "Epoch 183/200\n",
      "1/1 [==============================] - 0s 8ms/step - loss: 6.4967e-05 - accuracy: 1.0000\n",
      "Epoch 184/200\n",
      "1/1 [==============================] - 0s 8ms/step - loss: 0.0000e+00 - accuracy: 1.0000\n",
      "Epoch 185/200\n",
      "1/1 [==============================] - 0s 8ms/step - loss: 0.0000e+00 - accuracy: 1.0000\n",
      "Epoch 186/200\n",
      "1/1 [==============================] - 0s 0s/step - loss: 1.6689e-06 - accuracy: 1.0000\n",
      "Epoch 187/200\n",
      "1/1 [==============================] - 0s 8ms/step - loss: 7.5102e-06 - accuracy: 1.0000\n",
      "Epoch 188/200\n",
      "1/1 [==============================] - 0s 0s/step - loss: 0.0000e+00 - accuracy: 1.0000\n",
      "Epoch 189/200\n",
      "1/1 [==============================] - 0s 8ms/step - loss: 2.3842e-07 - accuracy: 1.0000\n",
      "Epoch 190/200\n",
      "1/1 [==============================] - 0s 9ms/step - loss: 0.0000e+00 - accuracy: 1.0000\n",
      "Epoch 191/200\n",
      "1/1 [==============================] - 0s 8ms/step - loss: 0.0000e+00 - accuracy: 1.0000\n",
      "Epoch 192/200\n",
      "1/1 [==============================] - 0s 4ms/step - loss: 0.0000e+00 - accuracy: 1.0000\n",
      "Epoch 193/200\n",
      "1/1 [==============================] - 0s 0s/step - loss: 0.0000e+00 - accuracy: 1.0000\n",
      "Epoch 194/200\n",
      "1/1 [==============================] - 0s 8ms/step - loss: 4.7684e-07 - accuracy: 1.0000\n",
      "Epoch 195/200\n",
      "1/1 [==============================] - 0s 7ms/step - loss: 0.0000e+00 - accuracy: 1.0000\n",
      "Epoch 196/200\n",
      "1/1 [==============================] - 0s 3ms/step - loss: 0.0000e+00 - accuracy: 1.0000\n",
      "Epoch 197/200\n",
      "1/1 [==============================] - 0s 16ms/step - loss: 0.0000e+00 - accuracy: 1.0000\n",
      "Epoch 198/200\n",
      "1/1 [==============================] - 0s 7ms/step - loss: 0.0000e+00 - accuracy: 1.0000\n",
      "Epoch 199/200\n",
      "1/1 [==============================] - 0s 8ms/step - loss: 2.5034e-06 - accuracy: 1.0000\n",
      "Epoch 200/200\n",
      "1/1 [==============================] - 0s 12ms/step - loss: 1.1921e-07 - accuracy: 1.0000\n"
     ]
    }
   ],
   "source": [
    "# train the model\n",
    "history = model.fit(np.array(X_train), np.array(y_train), epochs=200, batch_size=5, verbose=1)"
   ]
  },
  {
   "cell_type": "code",
   "execution_count": 19,
   "metadata": {
    "colab": {
     "base_uri": "https://localhost:8080/"
    },
    "executionInfo": {
     "elapsed": 499,
     "status": "ok",
     "timestamp": 1728729793398,
     "user": {
      "displayName": "Atharva Aher",
      "userId": "04663733968942164580"
     },
     "user_tz": -330
    },
    "id": "5QlR53JFUNI6",
    "outputId": "c704f81b-2cca-4023-d126-069e7d180dd9"
   },
   "outputs": [
    {
     "name": "stdout",
     "output_type": "stream",
     "text": [
      "done\n"
     ]
    },
    {
     "name": "stderr",
     "output_type": "stream",
     "text": [
      "c:\\Users\\MADHURI\\AppData\\Local\\Programs\\Python\\Python311\\Lib\\site-packages\\keras\\src\\engine\\training.py:3079: UserWarning: You are saving your model as an HDF5 file via `model.save()`. This file format is considered legacy. We recommend using instead the native Keras format, e.g. `model.save('my_model.keras')`.\n",
      "  saving_api.save_model(\n"
     ]
    }
   ],
   "source": [
    "# save the model\n",
    "model.save('pikart_customer_service_chatbot.h5', history)\n",
    "print('done')"
   ]
  },
  {
   "cell_type": "code",
   "execution_count": null,
   "metadata": {
    "id": "WrRNdBxeUz6M"
   },
   "outputs": [],
   "source": []
  }
 ],
 "metadata": {
  "colab": {
   "authorship_tag": "ABX9TyMYN/2BHeCIBUHAJaGyJtxG",
   "provenance": []
  },
  "kernelspec": {
   "display_name": "Python 3",
   "language": "python",
   "name": "python3"
  },
  "language_info": {
   "codemirror_mode": {
    "name": "ipython",
    "version": 3
   },
   "file_extension": ".py",
   "mimetype": "text/x-python",
   "name": "python",
   "nbconvert_exporter": "python",
   "pygments_lexer": "ipython3",
   "version": "3.11.6"
  }
 },
 "nbformat": 4,
 "nbformat_minor": 0
}
